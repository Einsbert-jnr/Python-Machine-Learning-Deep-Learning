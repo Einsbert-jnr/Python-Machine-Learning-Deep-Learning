{
 "cells": [
  {
   "cell_type": "markdown",
   "metadata": {},
   "source": [
    "#### Autograd\n",
    "** Gradients are essential for model optimization\n",
    "- How it can be used to calculate gradient"
   ]
  },
  {
   "cell_type": "code",
   "execution_count": 13,
   "metadata": {},
   "outputs": [
    {
     "name": "stdout",
     "output_type": "stream",
     "text": [
      "tensor([2.3087, 3.3761, 4.2142])\n"
     ]
    }
   ],
   "source": [
    "import torch\n",
    "\n",
    "x = torch.randn(3, requires_grad=True)\n",
    "x\n",
    "y = x + 2\n",
    "y\n",
    "\n",
    "z = y * y * 2\n",
    "z = z.mean()\n",
    "\n",
    "z.backward()  ## This will compute gradient of z w.r.t x (dz/dx). This also didn't take any argument because z is a scalar\n",
    "\n",
    "'''\n",
    "if z is a vector\n",
    "v = torch.teensor([0.1, 1.0, 0.001], dtype=torch.float32)\n",
    "z.backward(v) # Before it will work\n",
    "'''\n",
    "print(x.grad) ## This is where the gradient is stored\n",
    "\n"
   ]
  },
  {
   "cell_type": "code",
   "execution_count": 16,
   "metadata": {},
   "outputs": [
    {
     "name": "stdout",
     "output_type": "stream",
     "text": [
      "tensor([3., 3., 3., 3.])\n",
      "tensor([3., 3., 3., 3.])\n",
      "tensor([3., 3., 3., 3.])\n"
     ]
    }
   ],
   "source": [
    "## how to prevent the gradient from being tracked\n",
    "\n",
    "### Options\n",
    "# x.requires_grad_(False)\n",
    "# x.detach()\n",
    "# with torch.no_grad():\n",
    "\n",
    "with torch.no_grad():\n",
    "    y = x + 2\n",
    "\n",
    "\n",
    "weights = torch.ones(4, requires_grad=True)\n",
    "\n",
    "for epoch in range(3):\n",
    "    model_output = (weights * 3).sum()\n",
    "    model_output.backward()\n",
    "    print(weights.grad) ## This will produce incorrect gradient\n",
    "    ##To solve this\n",
    "    weights.grad.zero_()"
   ]
  }
 ],
 "metadata": {
  "kernelspec": {
   "display_name": "Python 3",
   "language": "python",
   "name": "python3"
  },
  "language_info": {
   "codemirror_mode": {
    "name": "ipython",
    "version": 3
   },
   "file_extension": ".py",
   "mimetype": "text/x-python",
   "name": "python",
   "nbconvert_exporter": "python",
   "pygments_lexer": "ipython3",
   "version": "3.11.0"
  }
 },
 "nbformat": 4,
 "nbformat_minor": 2
}
