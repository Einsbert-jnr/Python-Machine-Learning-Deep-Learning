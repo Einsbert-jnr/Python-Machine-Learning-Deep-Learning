{
 "cells": [
  {
   "cell_type": "code",
   "execution_count": 8,
   "metadata": {},
   "outputs": [
    {
     "name": "stdout",
     "output_type": "stream",
     "text": [
      "z:tensor([[0.9667, 0.2276],\n",
      "        [0.0650, 0.4702]]) \n",
      " x: tensor([[0.1087, 0.4233],\n",
      "        [0.1199, 0.2622]])\n"
     ]
    },
    {
     "data": {
      "text/plain": [
       "tensor([[1.0754, 0.6510],\n",
       "        [0.1849, 0.7324]])"
      ]
     },
     "execution_count": 8,
     "metadata": {},
     "output_type": "execute_result"
    }
   ],
   "source": [
    "import torch\n",
    "\n",
    "x = torch.empty(2,3)\n",
    "x\n",
    "torch.rand(2)\n",
    "torch.zeros(2,5)\n",
    "torch.ones(2,2, dtype=torch.float16)\n",
    "\n",
    "x.size()\n",
    "### Tensor is another way of saying arrays\n",
    "y = torch.tensor([2.5, 0.1])\n",
    "z = torch.rand(2,2)\n",
    "x = torch.rand(2,2)\n",
    "result = torch.add(x, z)\n",
    "result\n",
    "\n",
    "\n",
    "# Any function that ends with _ will do an implace operation \n",
    "print(f\"z:{z} \\n x: {x}\")\n",
    "z.add_(x)\n"
   ]
  },
  {
   "cell_type": "markdown",
   "metadata": {},
   "source": [
    "#### Slicing operation"
   ]
  },
  {
   "cell_type": "code",
   "execution_count": 13,
   "metadata": {},
   "outputs": [
    {
     "data": {
      "text/plain": [
       "0.8879007697105408"
      ]
     },
     "execution_count": 13,
     "metadata": {},
     "output_type": "execute_result"
    }
   ],
   "source": [
    "x = torch.rand(5,3)\n",
    "\n",
    "## Similar to the slicing in numpy\n",
    "x[:, 0]\n",
    "x[1,1]\n",
    "x[1,1].item() ## This only work when you have only one item in the tensor\n"
   ]
  },
  {
   "cell_type": "markdown",
   "metadata": {},
   "source": [
    "#### Reshaping tensors"
   ]
  },
  {
   "cell_type": "code",
   "execution_count": 18,
   "metadata": {},
   "outputs": [
    {
     "data": {
      "text/plain": [
       "torch.Size([2, 8])"
      ]
     },
     "execution_count": 18,
     "metadata": {},
     "output_type": "execute_result"
    }
   ],
   "source": [
    "x = torch.rand(4,4)\n",
    "x\n",
    "x.view(16)\n",
    "x.view(-1, 8)   ## Pytorch will predict a good shape to this\n",
    "x.view(-1, 8).size()\n"
   ]
  },
  {
   "cell_type": "markdown",
   "metadata": {},
   "source": [
    "#### Converting numpy arrays to tensors and vice versa"
   ]
  },
  {
   "cell_type": "code",
   "execution_count": 25,
   "metadata": {},
   "outputs": [
    {
     "data": {
      "text/plain": [
       "tensor([[1.0754, 0.6510],\n",
       "        [0.1849, 0.7324]])"
      ]
     },
     "execution_count": 25,
     "metadata": {},
     "output_type": "execute_result"
    }
   ],
   "source": [
    "import numpy as np\n",
    "\n",
    "a = torch.ones(5)\n",
    "b = a.numpy() ## Care must be taken because if the tensor is on CPU instead of GPU, it will share the same memroy location with the numpy array. And changing one will tend to change the other\n",
    "type(b)\n",
    "\n",
    "a.add_(1)\n",
    "a\n",
    "b\n",
    "## a and b were affected by the change because they point to the same location\n",
    "\n",
    "#### Creating tensors from numpy array\n",
    "a = np.ones(5)\n",
    "b = torch.from_numpy(a) ### Same caution needs to be taken\n",
    "b\n",
    "if torch.cuda.is_available():\n",
    "    device = torch.device(\"cuda\")\n",
    "    x = torch.ones(4, device=device)\n",
    "    y = torch.ones(5)\n",
    "    y = y.to(device)\n",
    "    z = x + y\n",
    "    z = z.to(\"cpu\")\n",
    "\n",
    "\n"
   ]
  },
  {
   "cell_type": "code",
   "execution_count": 27,
   "metadata": {},
   "outputs": [
    {
     "data": {
      "text/plain": [
       "tensor([1., 1., 1., 1., 1.], requires_grad=True)"
      ]
     },
     "execution_count": 27,
     "metadata": {},
     "output_type": "execute_result"
    }
   ],
   "source": [
    "### requires_grad set to True tells pytorch to calculate the gradient for this tensor during the optimization stage\n",
    "\n",
    "x = torch.ones(5, requires_grad=True)\n",
    "x"
   ]
  }
 ],
 "metadata": {
  "kernelspec": {
   "display_name": "Python 3",
   "language": "python",
   "name": "python3"
  },
  "language_info": {
   "codemirror_mode": {
    "name": "ipython",
    "version": 3
   },
   "file_extension": ".py",
   "mimetype": "text/x-python",
   "name": "python",
   "nbconvert_exporter": "python",
   "pygments_lexer": "ipython3",
   "version": "3.11.0"
  }
 },
 "nbformat": 4,
 "nbformat_minor": 2
}
