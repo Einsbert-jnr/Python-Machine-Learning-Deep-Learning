{
 "cells": [
  {
   "cell_type": "markdown",
   "metadata": {},
   "source": [
    "### Numpy Approach"
   ]
  },
  {
   "cell_type": "code",
   "execution_count": 3,
   "metadata": {},
   "outputs": [
    {
     "name": "stdout",
     "output_type": "stream",
     "text": [
      "Prediction before training: f(5) = 0.000\n",
      "epoch 1: w = 1.200, loss = 30.00000000\n",
      "epoch 2: w = 1.680, loss = 4.79999924\n",
      "epoch 3: w = 1.872, loss = 0.76800019\n",
      "epoch 4: w = 1.949, loss = 0.12288000\n",
      "epoch 5: w = 1.980, loss = 0.01966083\n",
      "epoch 6: w = 1.992, loss = 0.00314574\n",
      "epoch 7: w = 1.997, loss = 0.00050331\n",
      "epoch 8: w = 1.999, loss = 0.00008053\n",
      "epoch 9: w = 1.999, loss = 0.00001288\n",
      "epoch 10: w = 2.000, loss = 0.00000206\n",
      "Prediction After training: f(5) = 9.999\n"
     ]
    }
   ],
   "source": [
    "import numpy as np\n",
    "\n",
    "X = np.array([1,2,3,4], dtype=np.float32)\n",
    "Y = np.array([2,4,6,8], dtype=np.float32)\n",
    "\n",
    "w = 0.0\n",
    "\n",
    "# model prediction\n",
    "def forward(x):\n",
    "    return w * x\n",
    "\n",
    "## loss \n",
    "def loss(y, y_predicted):\n",
    "    return ((y_predicted - y) ** 2).mean()\n",
    "\n",
    "## gradient\n",
    "\n",
    "def gradient(x, y, y_predicted):\n",
    "    return np.dot(2*x, y_predicted - y).mean()\n",
    "\n",
    "print(f\"Prediction before training: f(5) = {forward(5):.3f}\")\n",
    "\n",
    "\n",
    "## Training \n",
    "learning_rate = 0.01\n",
    "n_iters = 10\n",
    "\n",
    "for epoch in range(n_iters):\n",
    "    # prediction = forward pass\n",
    "    y_pred = forward(X)\n",
    "\n",
    "    # loss\n",
    "    l = loss(Y, y_pred)\n",
    "\n",
    "    # gradient\n",
    "    dw = gradient(X,Y, y_pred)\n",
    "\n",
    "## update weights\n",
    "\n",
    "    w -= learning_rate * dw\n",
    "\n",
    "    if epoch % 1 == 0:\n",
    "        print(f'epoch {epoch + 1}: w = {w:.3f}, loss = {l:.8f}')\n",
    "\n",
    "\n",
    "print(f'Prediction After training: f(5) = {forward(5):.3f}')"
   ]
  },
  {
   "cell_type": "markdown",
   "metadata": {},
   "source": [
    "#### Pytorch Approach"
   ]
  },
  {
   "cell_type": "code",
   "execution_count": 8,
   "metadata": {},
   "outputs": [
    {
     "name": "stdout",
     "output_type": "stream",
     "text": [
      "Epoch:  1\n",
      "w:  tensor([2.0000, 3.9600, 5.8200, 7.5200], requires_grad=True)\n",
      "loss tensor(184., grad_fn=<MeanBackward0>)\n",
      "Epoch:  11\n",
      "w:  tensor([2.0000, 3.6015, 4.4104, 4.3978], requires_grad=True)\n",
      "loss tensor(44.1764, grad_fn=<MeanBackward0>)\n",
      "Epoch:  21\n",
      "w:  tensor([2.0000, 3.3085, 3.5210, 3.0416], requires_grad=True)\n",
      "loss tensor(12.6173, grad_fn=<MeanBackward0>)\n",
      "Epoch:  31\n",
      "w:  tensor([2.0000, 3.0691, 2.9598, 2.4525], requires_grad=True)\n",
      "loss tensor(4.4302, grad_fn=<MeanBackward0>)\n",
      "Epoch:  41\n",
      "w:  tensor([2.0000, 2.8736, 2.6056, 2.1965], requires_grad=True)\n",
      "loss tensor(1.8820, grad_fn=<MeanBackward0>)\n",
      "Epoch:  51\n",
      "w:  tensor([2.0000, 2.7138, 2.3821, 2.0854], requires_grad=True)\n",
      "loss tensor(0.9252, grad_fn=<MeanBackward0>)\n",
      "Epoch:  61\n",
      "w:  tensor([2.0000, 2.5832, 2.2411, 2.0371], requires_grad=True)\n",
      "loss tensor(0.5041, grad_fn=<MeanBackward0>)\n",
      "Epoch:  71\n",
      "w:  tensor([2.0000, 2.4765, 2.1522, 2.0161], requires_grad=True)\n",
      "loss tensor(0.2948, grad_fn=<MeanBackward0>)\n",
      "Epoch:  81\n",
      "w:  tensor([2.0000, 2.3894, 2.0960, 2.0070], requires_grad=True)\n",
      "loss tensor(0.1808, grad_fn=<MeanBackward0>)\n",
      "Epoch:  91\n",
      "w:  tensor([2.0000, 2.3181, 2.0606, 2.0030], requires_grad=True)\n",
      "loss tensor(0.1145, grad_fn=<MeanBackward0>)\n",
      "Prediction: f(5):  tensor([10.0000, 11.3262, 10.2002, 10.0072], grad_fn=<MulBackward0>)\n"
     ]
    }
   ],
   "source": [
    "import torch\n",
    "\n",
    "X =torch.tensor([1,2,3,4], dtype=torch.float32)\n",
    "Y =torch.tensor([2,4,6,8], dtype=torch.float32)\n",
    "\n",
    "w = torch.tensor([2,4,6,8], requires_grad=True, dtype=torch.float32)\n",
    "\n",
    "# model prediction\n",
    "def forward(x):\n",
    "    return w * x\n",
    "\n",
    "## loss \n",
    "def loss(y, y_predicted):\n",
    "    return ((y_predicted - y) ** 2).mean()\n",
    "\n",
    "\n",
    "## Training \n",
    "learning_rate = 0.01\n",
    "n_iters = 10\n",
    "\n",
    "for epoch in range(n_iters):\n",
    "    # prediction = forward pass\n",
    "    y_pred = forward(X)\n",
    "\n",
    "    # loss\n",
    "    l = loss(Y, y_pred)\n",
    "\n",
    "    # gradient\n",
    "    l.backward()\n",
    "## update weights\n",
    "\n",
    "    w -= learning_rate * dw\n",
    "\n",
    "    if epoch % 1 == 0:\n",
    "        print(f'epoch {epoch + 1}: w = {w:.3f}, loss = {l:.8f}')\n",
    "\n",
    "\n",
    "print(f'Prediction After training: f(5) = {forward(5):.3f}')"
   ]
  }
 ],
 "metadata": {
  "kernelspec": {
   "display_name": "Python 3",
   "language": "python",
   "name": "python3"
  },
  "language_info": {
   "codemirror_mode": {
    "name": "ipython",
    "version": 3
   },
   "file_extension": ".py",
   "mimetype": "text/x-python",
   "name": "python",
   "nbconvert_exporter": "python",
   "pygments_lexer": "ipython3",
   "version": "3.11.0"
  }
 },
 "nbformat": 4,
 "nbformat_minor": 2
}
