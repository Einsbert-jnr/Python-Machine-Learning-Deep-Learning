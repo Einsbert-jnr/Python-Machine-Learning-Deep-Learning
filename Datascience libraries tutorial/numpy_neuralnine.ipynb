{
 "cells": [
  {
   "cell_type": "code",
   "execution_count": 3,
   "metadata": {},
   "outputs": [
    {
     "name": "stderr",
     "output_type": "stream",
     "text": [
      "C:\\Users\\johny\\AppData\\Local\\Temp\\ipykernel_17416\\1708958176.py:6: RuntimeWarning: invalid value encountered in sqrt\n",
      "  np.isnan(np.sqrt(-1))\n"
     ]
    },
    {
     "data": {
      "text/plain": [
       "array([[172.96980355, 179.60100368, 168.32987698, 191.7855623 ,\n",
       "        150.15862377, 181.51199811, 169.44579738, 192.28832548,\n",
       "        150.79674784, 185.22510277],\n",
       "       [161.70756583, 182.77743925, 179.02610989, 189.54269503,\n",
       "        159.23683491, 168.76716205, 164.29602652, 188.66034951,\n",
       "        188.00943432, 180.5427784 ],\n",
       "       [196.82838938, 146.59667811, 195.35329025, 155.9083774 ,\n",
       "        137.97777029, 183.91177709, 181.10891688, 171.95034137,\n",
       "        171.82285271, 177.99972657],\n",
       "       [198.93389584, 175.82450235, 179.07785778, 153.18595078,\n",
       "        167.25275063, 130.20007552, 159.25733649, 198.94316471,\n",
       "        157.73208241, 189.93774083],\n",
       "       [171.39550363, 159.27701742, 164.80129532, 154.77764062,\n",
       "        150.47301632, 139.30438715, 163.33797692, 188.03556726,\n",
       "        162.84510292, 200.03424439]])"
      ]
     },
     "execution_count": 3,
     "metadata": {},
     "output_type": "execute_result"
    }
   ],
   "source": [
    "import numpy as np\n",
    "\n",
    "a = np.array([11,3,5])\n",
    "np.nan\n",
    "np.inf\n",
    "np.isnan(np.sqrt(-1))\n",
    "\n",
    "a.flatten()\n",
    "a.ravel()\n",
    "# a.swapaxes(3, 6)\n",
    "\n",
    "np.random.binomial(10, p=0.5, size=(5,10))\n",
    "np.random.normal(loc=170, scale=15, size=(5,10))\n"
   ]
  },
  {
   "cell_type": "code",
   "execution_count": 4,
   "metadata": {},
   "outputs": [
    {
     "name": "stdout",
     "output_type": "stream",
     "text": [
      "9.79 ms ± 201 µs per loop (mean ± std. dev. of 7 runs, 100 loops each)\n",
      "65.4 µs ± 3.07 µs per loop (mean ± std. dev. of 7 runs, 10,000 loops each)\n"
     ]
    }
   ],
   "source": [
    "B = np.random.rand(100000)\n",
    "%timeit sum(B)\n",
    "%timeit np.sum(B) # B.sum()"
   ]
  }
 ],
 "metadata": {
  "kernelspec": {
   "display_name": "Python 3",
   "language": "python",
   "name": "python3"
  },
  "language_info": {
   "codemirror_mode": {
    "name": "ipython",
    "version": 3
   },
   "file_extension": ".py",
   "mimetype": "text/x-python",
   "name": "python",
   "nbconvert_exporter": "python",
   "pygments_lexer": "ipython3",
   "version": "3.11.0"
  },
  "orig_nbformat": 4
 },
 "nbformat": 4,
 "nbformat_minor": 2
}
