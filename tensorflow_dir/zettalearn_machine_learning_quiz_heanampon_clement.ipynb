{
 "cells": [
  {
   "cell_type": "markdown",
   "metadata": {},
   "source": [
    "QUESTION 1\n",
    "Function is a piece of code writtten to carry out a specific task.\n",
    "Functions are needed to create a set of instructions that are being used repeatedly. Functions can be complex and because of that they are etter self-contained in a sub-program and called when needed. Functions allow us to keep our variable namespace clean (local variables only \"live\" as long as the function does). In other words, function_1 can use a variable called i, and function_2 can also use a variable called i and there is no confusion."
   ]
  },
  {
   "cell_type": "markdown",
   "metadata": {},
   "source": [
    "QUESTION 2\n",
    "A python decorator is a design pattern in Python that allows a user to add new functionality to an existing object without modifying its structure. Decorators are usually called before the definition of a function you want to decorate."
   ]
  },
  {
   "cell_type": "markdown",
   "metadata": {},
   "source": [
    "QUESTION 3\n",
    "Decorators are Python functions that allow us to wrap another function as an input and modify its behavior without altering the wrapped function's code. It can also be usee to extend the behavior of a particular object, such as a class, method, or function."
   ]
  },
  {
   "cell_type": "markdown",
   "metadata": {},
   "source": [
    "QUESTION 4\n",
    "To avoid code redundancy in evaluating student results, two Python scripts can interact without copy-pasting. First, common functions become a separate, importable module. Alternatively, scripts can pass data through command-line arguments or exchange it via files. For real-time communication, pipes offer direct transfer."
   ]
  },
  {
   "cell_type": "markdown",
   "metadata": {},
   "source": [
    "QUESTION 5\n",
    "\n",
    "IOError in Python is basically a red flag that pops up when something goes wrong with input/output operations, like trying to read a file that's not actually there or saving data to a disk that's full.\n",
    "It's super helpful because it tells you where to look for the issue, whether it's a missing file, a permissions problem, or something else."
   ]
  },
  {
   "cell_type": "markdown",
   "metadata": {},
   "source": [
    "QUESTION 6\n",
    "Python's built-in 'type()' function can be used to double-check the data that was passed through the function. This will help you know the data's datatype. Read the error message to figure out the datatype that the function was expecting to double-check if it matches with the one the built-in function gave. If not, change the data's datatype to match that of the function's expected datatype."
   ]
  },
  {
   "cell_type": "code",
   "execution_count": 5,
   "metadata": {},
   "outputs": [
    {
     "name": "stdout",
     "output_type": "stream",
     "text": [
      "                                                      Hello!, I did it\n",
      "                                                               1234567\n"
     ]
    }
   ],
   "source": [
    "##### QESTION 7\n",
    "\n",
    "# Defining a function called right_justify to carry out a simple task\n",
    "def right_justify(s):\n",
    "    # calculating the no. of spaces needed\n",
    "    spaces_needed = 70 - len(str(s))\n",
    "\n",
    "    # outputing the spaces and the strings\n",
    "    print(\" \" * spaces_needed + str(s))\n",
    "\n",
    "#Testing the function with strings\n",
    "right_justify(\"Hello!, I did it\")\n",
    "# Testing the function with numbers\n",
    "right_justify(1234567)\n"
   ]
  },
  {
   "cell_type": "code",
   "execution_count": 9,
   "metadata": {},
   "outputs": [],
   "source": [
    "# QUESTION 8\n",
    "\n",
    "def eval_loop():\n",
    "\n",
    "    while True:\n",
    "        last_value = None\n",
    "        # Taking user's expression\n",
    "        expression = input(\"Enter expression to be evaluated or 'q' to quit:> \")\n",
    "\n",
    "        #checking condition to carry out evaluation or quit\n",
    "        if expression.lower() == 'q':\n",
    "            break\n",
    "\n",
    "        # Evaluating the user expression\n",
    "        result = eval(expression)\n",
    "        last_value = result\n",
    "\n",
    "        return last_value\n",
    "    \n",
    "\n",
    "eval_loop()\n",
    "\n"
   ]
  },
  {
   "cell_type": "code",
   "execution_count": 14,
   "metadata": {},
   "outputs": [
    {
     "data": {
      "text/plain": [
       "9"
      ]
     },
     "execution_count": 14,
     "metadata": {},
     "output_type": "execute_result"
    }
   ],
   "source": [
    "#QUESTION 9\n",
    "\n",
    "class EvalLoopClass:\n",
    "\n",
    "    # Defining an initial function to initialised the variable last_name\n",
    "    def __init__(self):\n",
    "        self.result = None\n",
    "\n",
    "    def run_loop(self):\n",
    "        while True:\n",
    "            expression = input(\"Enter expression to be evaluated or 'q' to exit loop:> \")\n",
    "\n",
    "            if expression.lower() == 'q':\n",
    "                break\n",
    "\n",
    "            self.result = eval(expression)\n",
    "\n",
    "            return self.result\n",
    "        \n",
    "simple_class = EvalLoopClass()\n",
    "simple_class.run_loop()\n",
    "\n"
   ]
  },
  {
   "cell_type": "code",
   "execution_count": 24,
   "metadata": {},
   "outputs": [
    {
     "name": "stdout",
     "output_type": "stream",
     "text": [
      "Book added successfully!\n",
      "{'title': 'the kaya girl', 'author': 'einsbert', 'year': 22222, 'pages': 5000}\n",
      "--- Library Catalog ---\n",
      "title: the kaya girl\n",
      "author: einsbert\n",
      "year: 22222\n",
      "pages: 5000\n"
     ]
    }
   ],
   "source": [
    "# QUESTION 10\n",
    "\n",
    "# Creating an empty dictionary\n",
    "library = {}\n",
    "\n",
    "# Creating a add book function\n",
    "def add_book():\n",
    "    global library\n",
    "    # Taking book description from users\n",
    "    title = input(\"Enter book title: \")\n",
    "    author = input(\"Enter author name: \")\n",
    "    year = int(input(\"Enter year published: \"))\n",
    "    pages = int(input(\"Enter number of pages: \"))\n",
    "\n",
    "    # appending descripiton to library dictionary\n",
    "    library = {\n",
    "        \"title\": title,\n",
    "        \"author\": author,\n",
    "        \"year\": year,\n",
    "        \"pages\": pages\n",
    "    }\n",
    "    print(\"Book added successfully!\")\n",
    "\n",
    "add_book()\n",
    "## Writing code to view books in the library\n",
    "print(\"--- Library Catalog ---\")\n",
    "for key, value in library.items():\n",
    "    print(f\"{key}: {value}\", end=\"\\n\")"
   ]
  },
  {
   "cell_type": "markdown",
   "metadata": {},
   "source": [
    "QUESTION 11\n",
    "Syntax errors occur when the code violates the grammar rules of the programming language. Like typos or incorrect punctuation in a sentence. Examples include missing semicolons or parentheses, misspelled keywords and incorrect indentation (in languages like Python)"
   ]
  },
  {
   "cell_type": "markdown",
   "metadata": {},
   "source": [
    "QEUSTION 12\n",
    "Semantic errors occur when the code is grammatically correct but doesn't produce the intended behavior due to logical flaws. Like a sentence that's grammatically correct but makes no sense.\n",
    "Examples:\n",
    "Using variables before they're assigned values\n",
    "Misusing operators or performing calculations incorrectly\n",
    "Implementing incorrect algorithms or logic"
   ]
  },
  {
   "cell_type": "markdown",
   "metadata": {},
   "source": [
    "QEUSTION 13\n",
    "*FIXING SYNTAX ERRORS*\n",
    "Identify the culprit: Pay close attention to error messages, which often pinpoint the problematic line.\n",
    "Scrutinize for typos: Double-check for missing semicolons, misspelled keywords, or incorrect indentation.\n",
    "Leverage visual aids: Utilize code editors or IDEs with syntax highlighting to visually spot errors.\n",
    "Consult documentation: Refer to language-specific syntax rules for clarity.\n",
    "\n",
    "*FIXING SEMANTIC ERRORS*\n",
    "Deploy debugging tools: Use print statements or debuggers to trace code execution and pinpoint logical flaws.\n",
    "Review algorithm meticulously: Carefully verify conditions, loops, calculations, and decision-making processes for alignment with intended behavior.\n",
    "Test extensively: Experiment with diverse inputs, including edge cases, to uncover unexpected outcomes.\n",
    "Seek guidance: Consult online resources or experienced programmers for assistance with challenging errors.\n",
    "\n"
   ]
  },
  {
   "cell_type": "code",
   "execution_count": 21,
   "metadata": {},
   "outputs": [
    {
     "name": "stdout",
     "output_type": "stream",
     "text": [
      "0 0\n",
      "0 1\n",
      "1 0\n",
      "1 1\n",
      "2 0\n",
      "2 1\n"
     ]
    }
   ],
   "source": [
    "name = \"Hello world\"\n",
    "name.split()\n",
    "\n",
    "for i in range(3):\n",
    "    for j in range(2):\n",
    "        print(i,j)"
   ]
  }
 ],
 "metadata": {
  "kernelspec": {
   "display_name": "Python 3",
   "language": "python",
   "name": "python3"
  },
  "language_info": {
   "codemirror_mode": {
    "name": "ipython",
    "version": 3
   },
   "file_extension": ".py",
   "mimetype": "text/x-python",
   "name": "python",
   "nbconvert_exporter": "python",
   "pygments_lexer": "ipython3",
   "version": "3.11.0"
  }
 },
 "nbformat": 4,
 "nbformat_minor": 2
}
