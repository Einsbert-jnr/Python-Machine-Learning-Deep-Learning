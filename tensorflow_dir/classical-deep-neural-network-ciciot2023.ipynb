{
 "cells": [
  {
   "cell_type": "code",
   "execution_count": 1,
   "id": "a41821f1",
   "metadata": {
    "_cell_guid": "b1076dfc-b9ad-4769-8c92-a6c4dae69d19",
    "_uuid": "8f2839f25d086af736a60e9eeb907d3b93b6e0e5",
    "execution": {
     "iopub.execute_input": "2024-03-23T16:30:04.589812Z",
     "iopub.status.busy": "2024-03-23T16:30:04.588724Z",
     "iopub.status.idle": "2024-03-23T16:30:05.619381Z",
     "shell.execute_reply": "2024-03-23T16:30:05.617875Z"
    },
    "papermill": {
     "duration": 1.038419,
     "end_time": "2024-03-23T16:30:05.621987",
     "exception": false,
     "start_time": "2024-03-23T16:30:04.583568",
     "status": "completed"
    },
    "tags": []
   },
   "outputs": [
    {
     "name": "stdout",
     "output_type": "stream",
     "text": [
      "/kaggle/input/ciciot2023-reduced/ciciot2023-reduced.csv\n"
     ]
    }
   ],
   "source": [
    "# This Python 3 environment comes with many helpful analytics libraries installed\n",
    "# It is defined by the kaggle/python Docker image: https://github.com/kaggle/docker-python\n",
    "# For example, here's several helpful packages to load\n",
    "\n",
    "import numpy as np # linear algebra\n",
    "import pandas as pd # data processing, CSV file I/O (e.g. pd.read_csv)\n",
    "\n",
    "# Input data files are available in the read-only \"../input/\" directory\n",
    "# For example, running this (by clicking run or pressing Shift+Enter) will list all files under the input directory\n",
    "\n",
    "import os\n",
    "for dirname, _, filenames in os.walk('/kaggle/input'):\n",
    "    for filename in filenames:\n",
    "        print(os.path.join(dirname, filename))\n",
    "\n",
    "# You can write up to 20GB to the current directory (/kaggle/working/) that gets preserved as output when you create a version using \"Save & Run All\" \n",
    "# You can also write temporary files to /kaggle/temp/, but they won't be saved outside of the current session"
   ]
  },
  {
   "cell_type": "code",
   "execution_count": 2,
   "id": "8e3c2ae5",
   "metadata": {
    "execution": {
     "iopub.execute_input": "2024-03-23T16:30:05.629258Z",
     "iopub.status.busy": "2024-03-23T16:30:05.628638Z",
     "iopub.status.idle": "2024-03-23T16:30:05.633872Z",
     "shell.execute_reply": "2024-03-23T16:30:05.632716Z"
    },
    "papermill": {
     "duration": 0.012014,
     "end_time": "2024-03-23T16:30:05.636781",
     "exception": false,
     "start_time": "2024-03-23T16:30:05.624767",
     "status": "completed"
    },
    "tags": []
   },
   "outputs": [],
   "source": [
    "### Room for machine learning space"
   ]
  },
  {
   "cell_type": "code",
   "execution_count": null,
   "id": "c150782e",
   "metadata": {
    "papermill": {
     "duration": 0.002114,
     "end_time": "2024-03-23T16:30:05.641633",
     "exception": false,
     "start_time": "2024-03-23T16:30:05.639519",
     "status": "completed"
    },
    "tags": []
   },
   "outputs": [],
   "source": []
  }
 ],
 "metadata": {
  "kaggle": {
   "accelerator": "none",
   "dataSources": [
    {
     "datasetId": 4656699,
     "sourceId": 7923725,
     "sourceType": "datasetVersion"
    }
   ],
   "dockerImageVersionId": 30673,
   "isGpuEnabled": false,
   "isInternetEnabled": true,
   "language": "python",
   "sourceType": "notebook"
  },
  "kernelspec": {
   "display_name": "Python 3",
   "language": "python",
   "name": "python3"
  },
  "language_info": {
   "codemirror_mode": {
    "name": "ipython",
    "version": 3
   },
   "file_extension": ".py",
   "mimetype": "text/x-python",
   "name": "python",
   "nbconvert_exporter": "python",
   "pygments_lexer": "ipython3",
   "version": "3.10.13"
  },
  "papermill": {
   "default_parameters": {},
   "duration": 4.980574,
   "end_time": "2024-03-23T16:30:06.267917",
   "environment_variables": {},
   "exception": null,
   "input_path": "__notebook__.ipynb",
   "output_path": "__notebook__.ipynb",
   "parameters": {},
   "start_time": "2024-03-23T16:30:01.287343",
   "version": "2.5.0"
  }
 },
 "nbformat": 4,
 "nbformat_minor": 5
}
