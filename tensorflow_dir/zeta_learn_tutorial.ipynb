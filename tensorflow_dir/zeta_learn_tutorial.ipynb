{
 "cells": [
  {
   "cell_type": "code",
   "execution_count": 2,
   "metadata": {},
   "outputs": [
    {
     "name": "stdout",
     "output_type": "stream",
     "text": [
      "-----Verify your details-----\n",
      "First name: Heanampong\n",
      "Last name: Clement\n",
      "Ok\n"
     ]
    }
   ],
   "source": [
    "username = input(\"Enter your full name--> \")\n",
    "username = username.split()\n",
    "first_name = username[0]\n",
    "last_name = username[1]\n",
    "\n",
    "print(\"-----Verify your details-----\")\n",
    "print(f\"First name: {first_name}\")\n",
    "print(f\"Last name: {last_name}\")\n",
    "\n",
    "print(input(\"Enter 'ok' to confirm: \"))\n"
   ]
  }
 ],
 "metadata": {
  "kernelspec": {
   "display_name": "Python 3",
   "language": "python",
   "name": "python3"
  },
  "language_info": {
   "codemirror_mode": {
    "name": "ipython",
    "version": 3
   },
   "file_extension": ".py",
   "mimetype": "text/x-python",
   "name": "python",
   "nbconvert_exporter": "python",
   "pygments_lexer": "ipython3",
   "version": "3.11.0"
  }
 },
 "nbformat": 4,
 "nbformat_minor": 2
}
