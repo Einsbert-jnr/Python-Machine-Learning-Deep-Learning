{
 "cells": [
  {
   "cell_type": "markdown",
   "metadata": {},
   "source": [
    "#### FizzBuzz Challenge"
   ]
  },
  {
   "cell_type": "code",
   "execution_count": 13,
   "metadata": {},
   "outputs": [
    {
     "name": "stdout",
     "output_type": "stream",
     "text": [
      "1\n",
      "2\n",
      "fuzz\n",
      "4\n",
      "buzz\n",
      "fuzz\n",
      "7\n",
      "8\n",
      "fuzz\n",
      "buzz\n",
      "11\n",
      "fuzz\n",
      "13\n",
      "14\n",
      "fizzbuzz\n",
      "16\n",
      "17\n",
      "fuzz\n",
      "19\n",
      "buzz\n",
      "fuzz\n",
      "22\n",
      "23\n",
      "fuzz\n",
      "buzz\n",
      "26\n",
      "fuzz\n",
      "28\n",
      "29\n",
      "fizzbuzz\n",
      "31\n",
      "32\n",
      "fuzz\n",
      "34\n",
      "buzz\n",
      "fuzz\n",
      "37\n",
      "38\n",
      "fuzz\n",
      "buzz\n",
      "41\n",
      "fuzz\n",
      "43\n",
      "44\n",
      "fizzbuzz\n",
      "46\n",
      "47\n",
      "fuzz\n",
      "49\n",
      "buzz\n",
      "fuzz\n",
      "52\n",
      "53\n",
      "fuzz\n",
      "buzz\n",
      "56\n",
      "fuzz\n",
      "58\n",
      "59\n",
      "fizzbuzz\n",
      "61\n",
      "62\n",
      "fuzz\n",
      "64\n",
      "buzz\n",
      "fuzz\n",
      "67\n",
      "68\n",
      "fuzz\n",
      "buzz\n",
      "71\n",
      "fuzz\n",
      "73\n",
      "74\n",
      "fizzbuzz\n",
      "76\n",
      "77\n",
      "fuzz\n",
      "79\n",
      "buzz\n",
      "fuzz\n",
      "82\n",
      "83\n",
      "fuzz\n",
      "buzz\n",
      "86\n",
      "fuzz\n",
      "88\n",
      "89\n",
      "fizzbuzz\n",
      "91\n",
      "92\n",
      "fuzz\n",
      "94\n",
      "buzz\n",
      "fuzz\n",
      "97\n",
      "98\n",
      "fuzz\n",
      "buzz\n"
     ]
    }
   ],
   "source": [
    "\n",
    "for num in range(1,100+1):\n",
    "    if (num % 3 == 0) and (num % 5 == 0):\n",
    "        print('fizzbuzz')\n",
    "    elif num % 3 == 0:\n",
    "        print('fuzz')\n",
    "    elif num % 5 == 0:\n",
    "        print('buzz')\n",
    "    else: \n",
    "        print(num)\n"
   ]
  },
  {
   "cell_type": "markdown",
   "metadata": {},
   "source": [
    "### Hangman challenge"
   ]
  },
  {
   "cell_type": "code",
   "execution_count": 15,
   "metadata": {},
   "outputs": [
    {
     "name": "stdout",
     "output_type": "stream",
     "text": [
      "Hello____\n",
      "Hello____I have to input a text\n"
     ]
    }
   ],
   "source": [
    "name = None\n",
    "\n",
    "def funct(text):\n",
    "    print(f'Hello____{text}')\n",
    "\n",
    "while not(name):\n",
    "    name = input('Enter your name: ')\n",
    "\n",
    "    funct(name)\n",
    "\n"
   ]
  }
 ],
 "metadata": {
  "kernelspec": {
   "display_name": "Python 3",
   "language": "python",
   "name": "python3"
  },
  "language_info": {
   "codemirror_mode": {
    "name": "ipython",
    "version": 3
   },
   "file_extension": ".py",
   "mimetype": "text/x-python",
   "name": "python",
   "nbconvert_exporter": "python",
   "pygments_lexer": "ipython3",
   "version": "3.11.0"
  }
 },
 "nbformat": 4,
 "nbformat_minor": 2
}
